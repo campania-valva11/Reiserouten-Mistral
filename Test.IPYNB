# Installiere die benötigten Pakete (wird in Binder automatisch ausgeführt)
!pip install requests folium pandas

# Mistral-API aufrufen (Beispiel: GPS-Daten abfragen)
import requests

# Hier deine Mistral-API-URL und Key eintragen
API_URL = "https://api.mistral.ai/..."
API_KEY = "dein_api_key_hier"

response = requests.get(API_URL, headers={"Authorization": f"Bearer {API_KEY}"})
data = response.json()

# Beispiel: Erstelle eine Karte mit den Daten
import folium
m = folium.Map(location=[52.5200, 13.4050], zoom_start=12)  # Berlin als Beispiel
folium.Marker([52.5200, 13.4050], popup="Startpunkt").add_to(m)
m.save("karte.html")
